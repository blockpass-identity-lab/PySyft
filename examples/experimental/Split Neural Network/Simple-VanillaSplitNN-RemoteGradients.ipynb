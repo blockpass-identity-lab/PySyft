{
 "cells": [
  {
   "cell_type": "code",
   "execution_count": 2,
   "metadata": {},
   "outputs": [
    {
     "name": "stderr",
     "output_type": "stream",
     "text": [
      "Falling back to insecure randomness since the required custom op could not be found for the installed version of TensorFlow. Fix this by compiling custom ops. Missing file was '/Users/adamhall/anaconda3/envs/pysyft/lib/python3.7/site-packages/tf_encrypted/operations/secure_random/secure_random_module_tf_1.15.0.so'\n"
     ]
    },
    {
     "name": "stdout",
     "output_type": "stream",
     "text": [
      "WARNING:tensorflow:From /Users/adamhall/anaconda3/envs/pysyft/lib/python3.7/site-packages/tf_encrypted/session.py:24: The name tf.Session is deprecated. Please use tf.compat.v1.Session instead.\n",
      "\n"
     ]
    }
   ],
   "source": [
    "import torch\n",
    "from torch import optim, nn\n",
    "from torch.autograd import Variable\n",
    "import syft as sy\n",
    "hook = sy.TorchHook(torch)\n",
    "# import pixiedust\n"
   ]
  },
  {
   "cell_type": "code",
   "execution_count": 3,
   "metadata": {},
   "outputs": [],
   "source": [
    "@property\n",
    "def location(self):\n",
    "    m = self.__getitem__(0)\n",
    "    w = m.weight[0]\n",
    "    return w.location\n",
    "\n",
    "nn.Sequential.location = location"
   ]
  },
  {
   "cell_type": "code",
   "execution_count": 4,
   "metadata": {},
   "outputs": [],
   "source": [
    "# A Toy Dataset\n",
    "x = torch.tensor([[0,0,0,0],[1,0,0,0],[0,1,0,0],[0,0,1,0],[1,1,0,0],[1,0,1,0],[0,1,1,0],[1,1,1,0],[0,0,0,1],[1,0,0,1],[0,1,0,1],[0,0,1,1],[1,1,0,1],[1,0,1,1],[0,1,1,1],[1,1,1,1.]])\n",
    "x.requires_grad_()\n",
    "target = torch.tensor([[0],[0],[0],[0],[0],[0],[0],[0],[1],[1],[1],[1],[1],[1],[1],[1.]])\n",
    "\n",
    "\n",
    "#   Variables for performance metrics\n",
    "epochs = 20\n",
    "lr = 0.2\n",
    "counter = 0\n",
    "\n",
    "# Define 2 chained models\n",
    "models = [\n",
    "    nn.Sequential(\n",
    "        nn.Linear(4, 3),\n",
    "        nn.Tanh()\n",
    "    ),\n",
    "    nn.Sequential(\n",
    "        nn.Linear(3, 1),\n",
    "        nn.Sigmoid()\n",
    "    )\n",
    "]\n",
    "\n",
    "# Create optimisers for each segment and link to their segment\n",
    "optimizers = [\n",
    "    optim.SGD(params=model.parameters(),lr=lr)\n",
    "    for model in models\n",
    "]\n",
    "\n",
    "# create some workers\n",
    "alice = sy.VirtualWorker(hook, id=\"alice\")\n",
    "bob = sy.VirtualWorker(hook, id=\"bob\")\n",
    "workers = alice, bob\n",
    "\n",
    "# Send Model Segments and Data to starting locations\n",
    "model_locations = [alice, bob]\n",
    "\n",
    "for model, location in zip(models, model_locations):\n",
    "    model.send(location)\n",
    "    \n",
    "x = x.send(models[0].location)\n",
    "target = target.send(models[1].location)"
   ]
  },
  {
   "cell_type": "code",
   "execution_count": 7,
   "metadata": {
    "pixiedust": {
     "displayParams": {}
    }
   },
   "outputs": [
    {
     "name": "stdout",
     "output_type": "stream",
     "text": [
      "gradient returned by .grad is the same as the original tensor\n",
      "tensor(4.0154, requires_grad=True)\n",
      "gradient returned by .grad is the same as the original tensor\n",
      "tensor(3.9722, requires_grad=True)\n",
      "gradient returned by .grad is the same as the original tensor\n",
      "tensor(3.9993, requires_grad=True)\n",
      "gradient returned by .grad is the same as the original tensor\n",
      "tensor(4.1374, requires_grad=True)\n",
      "gradient returned by .grad is the same as the original tensor\n",
      "tensor(4.0259, requires_grad=True)\n",
      "gradient returned by .grad is the same as the original tensor\n",
      "tensor(3.9747, requires_grad=True)\n",
      "gradient returned by .grad is the same as the original tensor\n",
      "tensor(4.0483, requires_grad=True)\n",
      "gradient returned by .grad is the same as the original tensor\n",
      "tensor(3.9968, requires_grad=True)\n",
      "gradient returned by .grad is the same as the original tensor\n",
      "tensor(3.9997, requires_grad=True)\n",
      "gradient returned by .grad is the same as the original tensor\n",
      "tensor(3.9662, requires_grad=True)\n",
      "gradient returned by .grad is the same as the original tensor\n",
      "tensor(4.0032, requires_grad=True)\n",
      "gradient returned by .grad is the same as the original tensor\n",
      "tensor(3.9474, requires_grad=True)\n",
      "gradient returned by .grad is the same as the original tensor\n",
      "tensor(3.9833, requires_grad=True)\n",
      "gradient returned by .grad is the same as the original tensor\n",
      "tensor(3.9052, requires_grad=True)\n",
      "gradient returned by .grad is the same as the original tensor\n",
      "tensor(3.8628, requires_grad=True)\n",
      "gradient returned by .grad is the same as the original tensor\n",
      "tensor(4.1792, requires_grad=True)\n",
      "gradient returned by .grad is the same as the original tensor\n",
      "tensor(3.9173, requires_grad=True)\n",
      "gradient returned by .grad is the same as the original tensor\n",
      "tensor(3.8734, requires_grad=True)\n",
      "gradient returned by .grad is the same as the original tensor\n",
      "tensor(4.0876, requires_grad=True)\n",
      "gradient returned by .grad is the same as the original tensor\n",
      "tensor(3.9688, requires_grad=True)\n"
     ]
    }
   ],
   "source": [
    "# %%pixie_debugger\n",
    "\n",
    "def train():\n",
    "    # Training Logic\n",
    "    for iter in range(epochs):\n",
    "\n",
    "        # 1) erase previous gradients (if they exist)\n",
    "        for opt in optimizers:\n",
    "            opt.zero_grad()\n",
    "\n",
    "        # 2) make a prediction\n",
    "        a  = models[0](x)\n",
    "\n",
    "        # 3) send the activation signal to the next model\n",
    "        a_to_send = a.detach()\n",
    "        remote_a = a_to_send.move(models[1].location)\n",
    "        # re-enable autograd here\n",
    "        remote_a.requires_grad_()\n",
    "\n",
    "        pred =  models[1](remote_a)\n",
    "\n",
    "        # 3) calculate how much we missed\n",
    "        loss = ((pred - target)**2).sum()\n",
    "\n",
    "        # 4) figure out which weights caused us to miss\n",
    "        loss.backward()\n",
    "        \n",
    "        # 5) Backprop gradient to model behind\n",
    "\n",
    "        grad_a = remote_a.grad\n",
    "        \n",
    "        \n",
    "        # It looks like the .grad method of grabbing gradients remotely no longer works\n",
    "        A_gradient = grad_a.location._objects[grad_a.id_at_location]\n",
    "        A_tensor = remote_a.location._objects[remote_a.id_at_location]\n",
    "        if A_gradient.sum() == A_tensor.sum():\n",
    "            print(\"gradient returned by .grad is the same as the original tensor\")\n",
    "        \n",
    "        # The gradient is still there though it just isn't accessible while remote.\n",
    "        # Uncomment code below to verify this;\n",
    "        # remote_a = remote_a.get()\n",
    "        # print(remote_a)\n",
    "        # print(remote_a.grad)\n",
    "        \n",
    "\n",
    "        grad_a.move(models[0].location)\n",
    "                \n",
    "        # 5) backpropagate gradient for thsi layer.\n",
    "        a.backward(grad_a)\n",
    "\n",
    "        # 5) change the weights\n",
    "        for opt in optimizers:\n",
    "            opt.step()\n",
    "\n",
    "        # 6) print our progress\n",
    "        # Do not use .data\n",
    "        print(loss.get())\n",
    "        \n",
    "train()"
   ]
  },
  {
   "cell_type": "code",
   "execution_count": null,
   "metadata": {},
   "outputs": [],
   "source": []
  }
 ],
 "metadata": {
  "kernelspec": {
   "display_name": "Python 3",
   "language": "python",
   "name": "python3"
  },
  "language_info": {
   "codemirror_mode": {
    "name": "ipython",
    "version": 3
   },
   "file_extension": ".py",
   "mimetype": "text/x-python",
   "name": "python",
   "nbconvert_exporter": "python",
   "pygments_lexer": "ipython3",
   "version": "3.7.5"
  }
 },
 "nbformat": 4,
 "nbformat_minor": 2
}
