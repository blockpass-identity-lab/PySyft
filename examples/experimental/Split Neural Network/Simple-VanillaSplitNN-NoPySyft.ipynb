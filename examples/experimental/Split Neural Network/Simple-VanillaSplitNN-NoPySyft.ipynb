{
 "cells": [
  {
   "cell_type": "code",
   "execution_count": 1,
   "metadata": {},
   "outputs": [],
   "source": [
    "import torch\n",
    "from torch import optim, nn\n",
    "from torch.autograd import Variable\n",
    "# import pixiedust"
   ]
  },
  {
   "cell_type": "code",
   "execution_count": 2,
   "metadata": {},
   "outputs": [],
   "source": [
    "x = torch.tensor([[0,0,0,0],[1,0,0,0],[0,1,0,0],[0,0,1,0],[1,1,0,0],[1,0,1,0],[0,1,1,0],[1,1,1,0],[0,0,0,1],[1,0,0,1],[0,1,0,1],[0,0,1,1],[1,1,0,1],[1,0,1,1],[0,1,1,1],[1,1,1,1.]])\n",
    "x.requires_grad_()\n",
    "target = torch.tensor([[0],[0],[0],[0],[0],[0],[0],[0],[1],[1],[1],[1],[1],[1],[1],[1.]])\n",
    "\n",
    "\n",
    "#   Variables for performance metrics\n",
    "epochs = 20\n",
    "lr = 0.2\n",
    "counter = 0\n",
    "\n",
    "# Define 2 chained models\n",
    "models = [\n",
    "    nn.Sequential(\n",
    "        nn.Linear(4, 3),\n",
    "        nn.Tanh()\n",
    "    ),\n",
    "    nn.Sequential(\n",
    "        nn.Linear(3, 1),\n",
    "        nn.Sigmoid()\n",
    "    )\n",
    "]\n",
    "\n",
    "# Create optimisers for each segment and link to their segment\n",
    "optimizers = [\n",
    "    optim.SGD(params=model.parameters(),lr=lr)\n",
    "    for model in models\n",
    "]"
   ]
  },
  {
   "cell_type": "code",
   "execution_count": 3,
   "metadata": {},
   "outputs": [
    {
     "name": "stdout",
     "output_type": "stream",
     "text": [
      "tensor(4.6285)\n",
      "tensor(3.7840)\n",
      "tensor(3.2810)\n",
      "tensor(2.7966)\n",
      "tensor(2.2425)\n",
      "tensor(1.6886)\n",
      "tensor(1.2308)\n",
      "tensor(0.9033)\n",
      "tensor(0.6829)\n",
      "tensor(0.5345)\n",
      "tensor(0.4317)\n",
      "tensor(0.3582)\n",
      "tensor(0.3037)\n",
      "tensor(0.2621)\n",
      "tensor(0.2297)\n",
      "tensor(0.2037)\n",
      "tensor(0.1826)\n",
      "tensor(0.1651)\n",
      "tensor(0.1505)\n",
      "tensor(0.1380)\n"
     ]
    }
   ],
   "source": [
    "def train():\n",
    "    # Training Logic\n",
    "    for iter in range(epochs):\n",
    "\n",
    "        # 1) erase previous gradients (if they exist)\n",
    "        for opt in optimizers:\n",
    "            opt.zero_grad()\n",
    "\n",
    "        # 2) make a prediction\n",
    "        a  = models[0](x)\n",
    "\n",
    "        # 3) send the activation signal to the next model\n",
    "        remote_a = a.detach()\n",
    "        # re-enable autograd here\n",
    "        remote_a.requires_grad_()\n",
    "\n",
    "        pred =  models[1](remote_a)\n",
    "\n",
    "        # 3) calculate how much we missed\n",
    "        loss = ((pred - target)**2).sum()\n",
    "\n",
    "        # 4) figure out which weights caused us to miss\n",
    "        loss.backward()\n",
    "        \n",
    "        # 5) Backprop gradient to model behind\n",
    "        grad_a = remote_a.grad.clone()\n",
    "        \n",
    "        # 5) Go backward from grad_a \n",
    "#         print(models[0][0].weight.grad)\n",
    "        a.backward(grad_a)\n",
    "#         print(models[0][0].weight.grad)\n",
    "\n",
    "        # 5) change the weights\n",
    "        for opt in optimizers:\n",
    "            opt.step()\n",
    "\n",
    "        # 6) print our progress\n",
    "        # Do not use .data\n",
    "        print(loss.detach())\n",
    "        \n",
    "train()"
   ]
  },
  {
   "cell_type": "code",
   "execution_count": null,
   "metadata": {
    "pixiedust": {
     "displayParams": {}
    }
   },
   "outputs": [],
   "source": []
  },
  {
   "cell_type": "code",
   "execution_count": null,
   "metadata": {},
   "outputs": [],
   "source": []
  }
 ],
 "metadata": {
  "kernelspec": {
   "display_name": "Python 3",
   "language": "python",
   "name": "python3"
  },
  "language_info": {
   "codemirror_mode": {
    "name": "ipython",
    "version": 3
   },
   "file_extension": ".py",
   "mimetype": "text/x-python",
   "name": "python",
   "nbconvert_exporter": "python",
   "pygments_lexer": "ipython3",
   "version": "3.7.4"
  }
 },
 "nbformat": 4,
 "nbformat_minor": 2
}
